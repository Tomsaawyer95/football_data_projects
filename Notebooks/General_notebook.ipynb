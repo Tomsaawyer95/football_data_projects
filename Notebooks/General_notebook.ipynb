{
 "cells": [
  {
   "cell_type": "code",
   "execution_count": 0,
   "metadata": {
    "application/vnd.databricks.v1+cell": {
     "cellMetadata": {
      "byteLimit": 2048000,
      "rowLimit": 10000
     },
     "inputWidgets": {},
     "nuid": "09f39e27-86f5-4ca4-9142-cc77d987babf",
     "showTitle": false,
     "tableResultSettingsMap": {
      "0": {
       "dataGridStateBlob": "{\"version\":1,\"tableState\":{\"columnPinning\":{\"left\":[\"#row_number#\"],\"right\":[]},\"columnSizing\":{\"path\":367},\"columnVisibility\":{}},\"settings\":{\"columns\":{}},\"syncTimestamp\":1753718642815}",
       "filterBlob": null,
       "queryPlanFiltersBlob": null,
       "tableResultIndex": 0
      }
     },
     "title": ""
    }
   },
   "outputs": [],
   "source": [
    "%fs ls /public/foot_mercato"
   ]
  },
  {
   "cell_type": "code",
   "execution_count": 0,
   "metadata": {
    "application/vnd.databricks.v1+cell": {
     "cellMetadata": {
      "byteLimit": 2048000,
      "implicitDf": true,
      "rowLimit": 10000
     },
     "inputWidgets": {},
     "nuid": "65d459bb-4687-4a1a-84ee-6ff5ad146791",
     "showTitle": false,
     "tableResultSettingsMap": {},
     "title": ""
    }
   },
   "outputs": [],
   "source": [
    "%sql\n",
    "CREATE OR REPLACE TEMPORARY VIEW players_informations\n",
    "USING JSON\n",
    "OPTIONS (path = '/public/foot_mercato/players_info_20250728.jsonl', multiline = false);\n",
    "\n",
    "\n",
    "CREATE OR REPLACE TEMPORARY VIEW transferts_informations\n",
    "USING JSON\n",
    "OPTIONS (path = '/public/foot_mercato/transfert_info_20250728.jsonl', multiline = false);\n",
    "\n",
    "\n",
    "CREATE OR REPLACE TEMPORARY VIEW clubs\n",
    "USING CSV\n",
    "OPTIONS (\n",
    "  path \"/public/foot_mercato/clubs_cleaned.csv\",\n",
    "  header \"true\",\n",
    "  inferSchema \"true\"\n",
    ")\n",
    "\n"
   ]
  },
  {
   "cell_type": "code",
   "execution_count": 0,
   "metadata": {
    "application/vnd.databricks.v1+cell": {
     "cellMetadata": {
      "byteLimit": 2048000,
      "implicitDf": true,
      "rowLimit": 10000
     },
     "inputWidgets": {},
     "nuid": "7755ac0b-010a-4fb4-822d-2f0cbeba1745",
     "showTitle": false,
     "tableResultSettingsMap": {},
     "title": ""
    }
   },
   "outputs": [],
   "source": [
    "%sql\n",
    "SELECT * from players_informations\n",
    "LIMIT 1"
   ]
  },
  {
   "cell_type": "code",
   "execution_count": 0,
   "metadata": {
    "application/vnd.databricks.v1+cell": {
     "cellMetadata": {
      "byteLimit": 2048000,
      "implicitDf": true,
      "rowLimit": 10000
     },
     "inputWidgets": {},
     "nuid": "0e7536b6-3bb6-4d89-afc9-977863dfdd5e",
     "showTitle": false,
     "tableResultSettingsMap": {},
     "title": ""
    }
   },
   "outputs": [],
   "source": [
    "%sql\n",
    "SELECT * from transferts_informations\n",
    "LIMIT 1"
   ]
  },
  {
   "cell_type": "code",
   "execution_count": 0,
   "metadata": {
    "application/vnd.databricks.v1+cell": {
     "cellMetadata": {
      "byteLimit": 2048000,
      "implicitDf": true,
      "rowLimit": 10000
     },
     "inputWidgets": {},
     "nuid": "cba1de4a-8dda-47c2-b27c-a4fca96a5313",
     "showTitle": false,
     "tableResultSettingsMap": {},
     "title": ""
    }
   },
   "outputs": [],
   "source": [
    "%sql\n",
    "CREATE TEMPORARY VIEW transfert_cleaned as\n",
    "WITH transfert_player_cte AS (\n",
    "  SELECT\n",
    "      ti.transfer_id,\n",
    "      year(to_date(date)) as year,\n",
    "      pi.id, \n",
    "      pi.name,\n",
    "      ti.age,\n",
    "      pi.position.name as position,\n",
    "      ac.name as provenance,\n",
    "      dc.name as arrival,\n",
    "      ti.season,\n",
    "      CASE \n",
    "        WHEN ti.fee IN ('-', '','Free Transfer','draft') THEN 0\n",
    "        WHEN ti.fee LIKE '%M' THEN CAST(REPLACE(REPLACE(ti.fee, '€', ''), 'M', '') AS INT) * 1000000\n",
    "        WHEN ti.fee LIKE '%K' THEN CAST(REPLACE(REPLACE(ti.fee, '€', ''), 'K', '') AS INT) * 1000\n",
    "        WHEN ti.fee LIKE '€%' THEN CAST(ti.fee AS INT)\n",
    "        ELSE\n",
    "          ti.fee\n",
    "       END AS fee_cleaned,\n",
    "      ti.fee\n",
    "    FROM transferts_informations as ti\n",
    "      JOIN players_informations as pi \n",
    "        ON pi.id = ti.player_id\n",
    "      JOIN clubs as ac\n",
    "        ON ti.source_club_id = ac.id\n",
    "      JOIN clubs as dc\n",
    "        ON ti.destination_club_id = dc.id\n",
    "      \n",
    ")\n",
    "SELECT * from transfert_player_cte\n",
    "WHERE transfert_player_cte.fee_cleaned != '?'\n",
    "\n",
    " \n",
    "\n",
    "\n",
    "\n",
    "\n"
   ]
  },
  {
   "cell_type": "code",
   "execution_count": 0,
   "metadata": {
    "application/vnd.databricks.v1+cell": {
     "cellMetadata": {
      "byteLimit": 2048000,
      "implicitDf": true,
      "rowLimit": 10000
     },
     "inputWidgets": {},
     "nuid": "d592b8f5-b7e4-4eb7-9cf8-807d4d8cd427",
     "showTitle": false,
     "tableResultSettingsMap": {},
     "title": ""
    }
   },
   "outputs": [],
   "source": [
    "%sql\n",
    "SELECT \n",
    "    year,\n",
    "    FORMAT_NUMBER(sum(cast(fee_cleaned AS INT)),0) as total_fees_year,\n",
    "    count(*) as total_transfert\n",
    "FROM transfert_cleaned\n",
    "GROUP BY year\n",
    "ORDER BY year DESC"
   ]
  },
  {
   "cell_type": "code",
   "execution_count": 0,
   "metadata": {
    "application/vnd.databricks.v1+cell": {
     "cellMetadata": {
      "byteLimit": 2048000,
      "implicitDf": true,
      "rowLimit": 10000
     },
     "inputWidgets": {},
     "nuid": "f33f708f-948a-4ee6-981d-550138e32c82",
     "showTitle": false,
     "tableResultSettingsMap": {},
     "title": ""
    }
   },
   "outputs": [],
   "source": [
    "%sql\n",
    "WITH transfert_by_club_cte AS(\n",
    "SELECT \n",
    "    arrival,\n",
    "    sum(cast(fee_cleaned AS INT)) as total_fees,\n",
    "    count(*) as total_transfert\n",
    "FROM transfert_cleaned\n",
    "GROUP BY arrival\n",
    ")\n",
    "SELECT\n",
    "  arrival,\n",
    "  FORMAT_NUMBER(total_fees,0) as fees_club_total,\n",
    "  total_transfert, \n",
    "  FORMAT_NUMBER(total_fees/total_transfert,0) as avg_tr\n",
    "FROM transfert_by_club_cte\n",
    "ORDER BY total_fees DESC "
   ]
  }
 ],
 "metadata": {
  "application/vnd.databricks.v1+notebook": {
   "computePreferences": null,
   "dashboards": [],
   "environmentMetadata": {
    "base_environment": "",
    "environment_version": "2"
   },
   "inputWidgetPreferences": null,
   "language": "python",
   "notebookMetadata": {
    "mostRecentlyExecutedCommandWithImplicitDF": {
     "commandId": 5587081112905567,
     "dataframes": [
      "_sqldf"
     ]
    },
    "pythonIndentUnit": 4
   },
   "notebookName": "General_notebook",
   "widgets": {}
  },
  "language_info": {
   "name": "python"
  }
 },
 "nbformat": 4,
 "nbformat_minor": 0
}
